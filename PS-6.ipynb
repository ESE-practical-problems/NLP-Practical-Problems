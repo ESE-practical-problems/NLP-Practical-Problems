{
 "cells": [
  {
   "cell_type": "markdown",
   "id": "7107bdb8",
   "metadata": {},
   "source": [
    "#### Build and evaluate a NER (Named Entitiy Recognition) system using NER libraries"
   ]
  },
  {
   "cell_type": "code",
   "execution_count": 1,
   "id": "9bcc569d",
   "metadata": {},
   "outputs": [],
   "source": [
    "# !python -m spacy download en_core_web_sm"
   ]
  },
  {
   "cell_type": "code",
   "execution_count": 2,
   "id": "c1a138fb",
   "metadata": {},
   "outputs": [],
   "source": [
    "import spacy\n",
    "from sklearn.metrics import precision_score, recall_score, f1_score"
   ]
  },
  {
   "cell_type": "code",
   "execution_count": 3,
   "id": "e9f82343",
   "metadata": {},
   "outputs": [],
   "source": [
    "nlp = spacy.load('en_core_web_sm')"
   ]
  },
  {
   "cell_type": "code",
   "execution_count": 4,
   "id": "c0e054c0",
   "metadata": {},
   "outputs": [],
   "source": [
    "# text = \"Tony Stark is the CEO of Stark Industries based in New York.\""
   ]
  },
  {
   "cell_type": "code",
   "execution_count": 5,
   "id": "ded02c28",
   "metadata": {},
   "outputs": [],
   "source": [
    "def extract_entities(text):\n",
    "    doc = nlp(text)\n",
    "    return [(ent.text, ent.label_) for ent in doc.ents], doc\n",
    "\n",
    "def evaluate_entities(predicted_entities, true_entities):\n",
    "    # Lowercase everything for fair comparison\n",
    "    true_entities = [entity.lower() for entity in true_entities]\n",
    "    predicted_entities = [entity.lower() for entity in predicted_entities]\n",
    "    \n",
    "    # Binary labels\n",
    "    y_true = [1] * len(true_entities)\n",
    "    y_pred = [1 if entity in predicted_entities else 0 for entity in true_entities]\n",
    "    \n",
    "    # Calculate metrics\n",
    "    precision = precision_score(y_true, y_pred, zero_division=0)\n",
    "    recall = recall_score(y_true, y_pred, zero_division=0)\n",
    "    f1 = f1_score(y_true, y_pred, zero_division=0)\n",
    "    return precision, recall, f1"
   ]
  },
  {
   "cell_type": "code",
   "execution_count": 6,
   "id": "1ef31e9a",
   "metadata": {},
   "outputs": [],
   "source": [
    "text = \"Tony Stark is the CEO of Stark Industries based in New York.\"\n",
    "true_entities = [\"Tony Stark\", \"Stark Industries\", \"New York\"]\n"
   ]
  },
  {
   "cell_type": "code",
   "execution_count": 7,
   "id": "93b294d1",
   "metadata": {},
   "outputs": [],
   "source": [
    "predicted_entities, doc = extract_entities(text)"
   ]
  },
  {
   "cell_type": "code",
   "execution_count": 8,
   "id": "38ef5229",
   "metadata": {},
   "outputs": [
    {
     "name": "stdout",
     "output_type": "stream",
     "text": [
      "\n",
      "Named Entities:\n",
      "Tony Stark (PERSON)\n",
      "Stark Industries (ORG)\n",
      "New York (GPE)\n"
     ]
    }
   ],
   "source": [
    "print(\"\\nNamed Entities:\")\n",
    "for entity in predicted_entities:\n",
    "    print(f\"{entity[0]} ({entity[1]})\")"
   ]
  },
  {
   "cell_type": "code",
   "execution_count": 9,
   "id": "4a54fecd",
   "metadata": {},
   "outputs": [],
   "source": [
    "# Evaluate the extracted entities\n",
    "predicted_entity_texts = [ent[0] for ent in predicted_entities]\n",
    "precision, recall, f1 = evaluate_entities(predicted_entity_texts, true_entities)"
   ]
  },
  {
   "cell_type": "code",
   "execution_count": 10,
   "id": "1839120c",
   "metadata": {},
   "outputs": [
    {
     "name": "stdout",
     "output_type": "stream",
     "text": [
      "\n",
      "---------------------------\n",
      "Evaluation Metrics:\n",
      "Precision: 1.00\n",
      "Recall: 1.00\n",
      "F1 Score: 1.00\n",
      "---------------------------\n"
     ]
    }
   ],
   "source": [
    "# Output evaluation metrics\n",
    "print(\"\\n---------------------------\")\n",
    "print(\"Evaluation Metrics:\")\n",
    "print(f\"Precision: {precision:.2f}\")\n",
    "print(f\"Recall: {recall:.2f}\")\n",
    "print(f\"F1 Score: {f1:.2f}\")\n",
    "print(\"---------------------------\")"
   ]
  },
  {
   "cell_type": "code",
   "execution_count": 11,
   "id": "6c98a539",
   "metadata": {},
   "outputs": [
    {
     "data": {
      "text/html": [
       "<span class=\"tex2jax_ignore\"><div class=\"entities\" style=\"line-height: 2.5; direction: ltr\">\n",
       "<mark class=\"entity\" style=\"background: #aa9cfc; padding: 0.45em 0.6em; margin: 0 0.25em; line-height: 1; border-radius: 0.35em;\">\n",
       "    Tony Stark\n",
       "    <span style=\"font-size: 0.8em; font-weight: bold; line-height: 1; border-radius: 0.35em; vertical-align: middle; margin-left: 0.5rem\">PERSON</span>\n",
       "</mark>\n",
       " is the CEO of \n",
       "<mark class=\"entity\" style=\"background: #7aecec; padding: 0.45em 0.6em; margin: 0 0.25em; line-height: 1; border-radius: 0.35em;\">\n",
       "    Stark Industries\n",
       "    <span style=\"font-size: 0.8em; font-weight: bold; line-height: 1; border-radius: 0.35em; vertical-align: middle; margin-left: 0.5rem\">ORG</span>\n",
       "</mark>\n",
       " based in \n",
       "<mark class=\"entity\" style=\"background: #feca74; padding: 0.45em 0.6em; margin: 0 0.25em; line-height: 1; border-radius: 0.35em;\">\n",
       "    New York\n",
       "    <span style=\"font-size: 0.8em; font-weight: bold; line-height: 1; border-radius: 0.35em; vertical-align: middle; margin-left: 0.5rem\">GPE</span>\n",
       "</mark>\n",
       ".</div></span>"
      ],
      "text/plain": [
       "<IPython.core.display.HTML object>"
      ]
     },
     "metadata": {},
     "output_type": "display_data"
    }
   ],
   "source": [
    "from spacy import displacy\n",
    "\n",
    "displacy.render(doc, style=\"ent\")"
   ]
  },
  {
   "cell_type": "code",
   "execution_count": 12,
   "id": "b257cbd4",
   "metadata": {},
   "outputs": [
    {
     "name": "stdout",
     "output_type": "stream",
     "text": [
      "Tokens: ['Tony', 'Stark', 'is', 'the', 'CEO', 'of', 'Stark', 'Industries', 'based', 'in', 'New', 'York', '.']\n",
      "Vocabulary: ['based' 'ceo' 'in' 'industries' 'is' 'new' 'of' 'stark' 'the' 'tony'\n",
      " 'york']\n",
      "BoW Matrix: [[1 1 1 1 1 1 1 2 1 1 1]]\n"
     ]
    },
    {
     "name": "stderr",
     "output_type": "stream",
     "text": [
      "[nltk_data] Downloading package punkt to\n",
      "[nltk_data]     C:\\Users\\ASUS\\AppData\\Roaming\\nltk_data...\n",
      "[nltk_data]   Package punkt is already up-to-date!\n"
     ]
    }
   ],
   "source": [
    "# Tokenization and BoW\n",
    "from nltk.tokenize import word_tokenize\n",
    "from sklearn.feature_extraction.text import CountVectorizer\n",
    "import nltk\n",
    "nltk.download('punkt')\n",
    "\n",
    "tokens = word_tokenize(text)\n",
    "print(\"Tokens:\", tokens)\n",
    "\n",
    "vectorizer = CountVectorizer()\n",
    "X = vectorizer.fit_transform([text])\n",
    "print(\"Vocabulary:\", vectorizer.get_feature_names_out())\n",
    "print(\"BoW Matrix:\", X.toarray())"
   ]
  }
 ],
 "metadata": {
  "kernelspec": {
   "display_name": "Python 3",
   "language": "python",
   "name": "python3"
  },
  "language_info": {
   "codemirror_mode": {
    "name": "ipython",
    "version": 3
   },
   "file_extension": ".py",
   "mimetype": "text/x-python",
   "name": "python",
   "nbconvert_exporter": "python",
   "pygments_lexer": "ipython3",
   "version": "3.10.0"
  }
 },
 "nbformat": 4,
 "nbformat_minor": 5
}
