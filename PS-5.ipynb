{
 "cells": [
  {
   "cell_type": "markdown",
   "id": "8a0e14c5",
   "metadata": {},
   "source": [
    "#### N-Gram Model Implementation"
   ]
  },
  {
   "cell_type": "code",
   "execution_count": 1,
   "id": "c6ee42f5",
   "metadata": {},
   "outputs": [],
   "source": [
    "import nltk\n",
    "from nltk import ngrams\n",
    "from nltk.tokenize import word_tokenize\n",
    "from nltk.probability import FreqDist"
   ]
  },
  {
   "cell_type": "code",
   "execution_count": 2,
   "id": "7a6b4c25",
   "metadata": {},
   "outputs": [
    {
     "name": "stderr",
     "output_type": "stream",
     "text": [
      "[nltk_data] Downloading package punkt_tab to\n",
      "[nltk_data]     C:\\Users\\ASUS\\AppData\\Roaming\\nltk_data...\n",
      "[nltk_data]   Package punkt_tab is already up-to-date!\n"
     ]
    },
    {
     "data": {
      "text/plain": [
       "True"
      ]
     },
     "execution_count": 2,
     "metadata": {},
     "output_type": "execute_result"
    }
   ],
   "source": [
    "nltk.download('punkt_tab')"
   ]
  },
  {
   "cell_type": "code",
   "execution_count": 3,
   "id": "9aca144a",
   "metadata": {},
   "outputs": [],
   "source": [
    "text = \"How much wood would a woodchuck chuck could chuck wood,if a woodchuck could chuck wood\""
   ]
  },
  {
   "cell_type": "code",
   "execution_count": 4,
   "id": "a8593607",
   "metadata": {},
   "outputs": [],
   "source": [
    "tokens = word_tokenize(text.lower())"
   ]
  },
  {
   "cell_type": "code",
   "execution_count": 5,
   "id": "b18a79bc",
   "metadata": {},
   "outputs": [],
   "source": [
    "bigram_list = list(ngrams(tokens, 2))\n",
    "trigram_list = list(ngrams(tokens, 3))"
   ]
  },
  {
   "cell_type": "code",
   "execution_count": 6,
   "id": "79eb04cb",
   "metadata": {},
   "outputs": [],
   "source": [
    "bigram_freq = FreqDist(bigram_list)\n",
    "trigram_freq = FreqDist(trigram_list)"
   ]
  },
  {
   "cell_type": "code",
   "execution_count": 7,
   "id": "9b3b9857",
   "metadata": {},
   "outputs": [
    {
     "name": "stdout",
     "output_type": "stream",
     "text": [
      "Bigrams:\n",
      "('how', 'much'): 1\n",
      "('much', 'wood'): 1\n",
      "('wood', 'would'): 1\n",
      "('would', 'a'): 1\n",
      "('a', 'woodchuck'): 2\n",
      "('woodchuck', 'chuck'): 1\n",
      "('chuck', 'could'): 1\n",
      "('could', 'chuck'): 2\n",
      "('chuck', 'wood'): 2\n",
      "('wood', ','): 1\n",
      "(',', 'if'): 1\n",
      "('if', 'a'): 1\n",
      "('woodchuck', 'could'): 1\n",
      "\n",
      "Trigrams:\n",
      "('how', 'much', 'wood'): 1\n",
      "('much', 'wood', 'would'): 1\n",
      "('wood', 'would', 'a'): 1\n",
      "('would', 'a', 'woodchuck'): 1\n",
      "('a', 'woodchuck', 'chuck'): 1\n",
      "('woodchuck', 'chuck', 'could'): 1\n",
      "('chuck', 'could', 'chuck'): 1\n",
      "('could', 'chuck', 'wood'): 2\n",
      "('chuck', 'wood', ','): 1\n",
      "('wood', ',', 'if'): 1\n",
      "(',', 'if', 'a'): 1\n",
      "('if', 'a', 'woodchuck'): 1\n",
      "('a', 'woodchuck', 'could'): 1\n",
      "('woodchuck', 'could', 'chuck'): 1\n"
     ]
    }
   ],
   "source": [
    "print(\"Bigrams:\")\n",
    "for bigram, frequency in bigram_freq.items():\n",
    "    print(f\"{bigram}: {frequency}\")\n",
    "\n",
    "print(\"\\nTrigrams:\")\n",
    "for trigram, frequency in trigram_freq.items():\n",
    "    print(f\"{trigram}: {frequency}\")"
   ]
  },
  {
   "cell_type": "code",
   "execution_count": 8,
   "id": "95c00dc6",
   "metadata": {},
   "outputs": [],
   "source": [
    "def predict_next_word(context_word, ngram_freq):\n",
    "    candidates = {next_word: freq for (w1, next_word), freq in ngram_freq.items() if w1 == context_word}\n",
    "    if not candidates:\n",
    "        return None\n",
    "    return max(candidates.items(), key=lambda x: x[1])[0]"
   ]
  },
  {
   "cell_type": "code",
   "execution_count": 9,
   "id": "414b664f",
   "metadata": {},
   "outputs": [
    {
     "name": "stdout",
     "output_type": "stream",
     "text": [
      "\n",
      "Predicted word after 'woodchuck': chuck\n"
     ]
    }
   ],
   "source": [
    "context = 'woodchuck'\n",
    "predicted_word = predict_next_word(context, bigram_freq)\n",
    "print(f\"\\nPredicted word after '{context}': {predicted_word}\")"
   ]
  },
  {
   "cell_type": "code",
   "execution_count": 10,
   "id": "bb18c3c7",
   "metadata": {},
   "outputs": [
    {
     "name": "stdout",
     "output_type": "stream",
     "text": [
      "Tokens: ['How', 'much', 'wood', 'would', 'a', 'woodchuck', 'chuck', 'could', 'chuck', 'wood', ',', 'if', 'a', 'woodchuck', 'could', 'chuck', 'wood']\n",
      "Vocabulary: ['chuck' 'could' 'how' 'if' 'much' 'wood' 'woodchuck' 'would']\n",
      "BoW Matrix: [[3 2 1 1 1 3 2 1]]\n"
     ]
    },
    {
     "name": "stderr",
     "output_type": "stream",
     "text": [
      "[nltk_data] Downloading package punkt to\n",
      "[nltk_data]     C:\\Users\\ASUS\\AppData\\Roaming\\nltk_data...\n",
      "[nltk_data]   Package punkt is already up-to-date!\n"
     ]
    }
   ],
   "source": [
    "# Tokenization and BoW\n",
    "from nltk.tokenize import word_tokenize\n",
    "from sklearn.feature_extraction.text import CountVectorizer\n",
    "import nltk\n",
    "nltk.download('punkt')\n",
    "\n",
    "tokens = word_tokenize(text)\n",
    "print(\"Tokens:\", tokens)\n",
    "\n",
    "vectorizer = CountVectorizer()\n",
    "X = vectorizer.fit_transform([text])\n",
    "print(\"Vocabulary:\", vectorizer.get_feature_names_out())\n",
    "print(\"BoW Matrix:\", X.toarray())"
   ]
  }
 ],
 "metadata": {
  "kernelspec": {
   "display_name": "Python 3",
   "language": "python",
   "name": "python3"
  },
  "language_info": {
   "codemirror_mode": {
    "name": "ipython",
    "version": 3
   },
   "file_extension": ".py",
   "mimetype": "text/x-python",
   "name": "python",
   "nbconvert_exporter": "python",
   "pygments_lexer": "ipython3",
   "version": "3.10.0"
  }
 },
 "nbformat": 4,
 "nbformat_minor": 5
}
