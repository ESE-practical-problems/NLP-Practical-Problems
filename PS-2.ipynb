{
 "cells": [
  {
   "cell_type": "markdown",
   "id": "d6999fed",
   "metadata": {},
   "source": [
    "#### Understanding Morphology: Add/Delete Table"
   ]
  },
  {
   "cell_type": "code",
   "execution_count": 10,
   "id": "8ced9c5a",
   "metadata": {},
   "outputs": [],
   "source": [
    "from tabulate import tabulate"
   ]
  },
  {
   "cell_type": "code",
   "execution_count": 11,
   "id": "0a89c241",
   "metadata": {},
   "outputs": [],
   "source": [
    "root_words = ['play', 'jump', 'work', 'talk']\n",
    "\n",
    "modifications = {\n",
    "    '-ing': 'present continuous',\n",
    "    '-ed': 'past'\n",
    "}"
   ]
  },
  {
   "cell_type": "code",
   "execution_count": 12,
   "id": "dd9566ec",
   "metadata": {},
   "outputs": [],
   "source": [
    "add_results = []\n",
    "delete_results = []"
   ]
  },
  {
   "cell_type": "code",
   "execution_count": 13,
   "id": "cf7c91e8",
   "metadata": {},
   "outputs": [],
   "source": [
    "for word in root_words:\n",
    "    for suffix, tense in modifications.items():\n",
    "        modified_word = word + suffix.lstrip('-')\n",
    "        add_results.append([word, suffix, modified_word, tense])\n"
   ]
  },
  {
   "cell_type": "code",
   "execution_count": 14,
   "id": "45d47143",
   "metadata": {},
   "outputs": [],
   "source": [
    "for word, suffix, modified_word, tense in add_results:\n",
    "    if modified_word.endswith(suffix.lstrip('-')):\n",
    "        original_word = modified_word[:-len(suffix.lstrip('-'))]\n",
    "        delete_results.append([modified_word, suffix, original_word, tense])"
   ]
  },
  {
   "cell_type": "code",
   "execution_count": 15,
   "id": "6de23729",
   "metadata": {},
   "outputs": [
    {
     "name": "stdout",
     "output_type": "stream",
     "text": [
      "\n",
      "Add Operation Results:\n",
      "+-------------+----------------+-----------------+--------------------+\n",
      "| Root Word   | Modification   | Modified Word   | Tense              |\n",
      "+=============+================+=================+====================+\n",
      "| play        | -ing           | playing         | present continuous |\n",
      "+-------------+----------------+-----------------+--------------------+\n",
      "| play        | -ed            | played          | past               |\n",
      "+-------------+----------------+-----------------+--------------------+\n",
      "| jump        | -ing           | jumping         | present continuous |\n",
      "+-------------+----------------+-----------------+--------------------+\n",
      "| jump        | -ed            | jumped          | past               |\n",
      "+-------------+----------------+-----------------+--------------------+\n",
      "| work        | -ing           | working         | present continuous |\n",
      "+-------------+----------------+-----------------+--------------------+\n",
      "| work        | -ed            | worked          | past               |\n",
      "+-------------+----------------+-----------------+--------------------+\n",
      "| talk        | -ing           | talking         | present continuous |\n",
      "+-------------+----------------+-----------------+--------------------+\n",
      "| talk        | -ed            | talked          | past               |\n",
      "+-------------+----------------+-----------------+--------------------+\n"
     ]
    }
   ],
   "source": [
    "print('\\nAdd Operation Results:')\n",
    "headers_add = [\"Root Word\", \"Modification\", \"Modified Word\", \"Tense\"]\n",
    "print(tabulate(add_results, headers=headers_add, tablefmt=\"grid\"))"
   ]
  },
  {
   "cell_type": "code",
   "execution_count": 16,
   "id": "0d61f246",
   "metadata": {},
   "outputs": [
    {
     "name": "stdout",
     "output_type": "stream",
     "text": [
      "\n",
      "Delete Operation Results: \n",
      "+-----------------+------------------+-------------+--------------------+\n",
      "| Modified Word   | Removed Suffix   | Root Word   | Tense              |\n",
      "+=================+==================+=============+====================+\n",
      "| playing         | -ing             | play        | present continuous |\n",
      "+-----------------+------------------+-------------+--------------------+\n",
      "| played          | -ed              | play        | past               |\n",
      "+-----------------+------------------+-------------+--------------------+\n",
      "| jumping         | -ing             | jump        | present continuous |\n",
      "+-----------------+------------------+-------------+--------------------+\n",
      "| jumped          | -ed              | jump        | past               |\n",
      "+-----------------+------------------+-------------+--------------------+\n",
      "| working         | -ing             | work        | present continuous |\n",
      "+-----------------+------------------+-------------+--------------------+\n",
      "| worked          | -ed              | work        | past               |\n",
      "+-----------------+------------------+-------------+--------------------+\n",
      "| talking         | -ing             | talk        | present continuous |\n",
      "+-----------------+------------------+-------------+--------------------+\n",
      "| talked          | -ed              | talk        | past               |\n",
      "+-----------------+------------------+-------------+--------------------+\n"
     ]
    }
   ],
   "source": [
    "print(\"\\nDelete Operation Results: \")\n",
    "headers_delete = [\"Modified Word\", \"Removed Suffix\", \"Root Word\", \"Tense\"]\n",
    "print(tabulate(delete_results, headers=headers_delete, tablefmt=\"grid\"))"
   ]
  },
  {
   "cell_type": "code",
   "execution_count": 17,
   "id": "b40b1ef7",
   "metadata": {},
   "outputs": [
    {
     "name": "stderr",
     "output_type": "stream",
     "text": [
      "[nltk_data] Downloading package punkt to\n",
      "[nltk_data]     C:\\Users\\ASUS\\AppData\\Roaming\\nltk_data...\n",
      "[nltk_data]   Package punkt is already up-to-date!\n"
     ]
    },
    {
     "data": {
      "text/plain": [
       "True"
      ]
     },
     "execution_count": 17,
     "metadata": {},
     "output_type": "execute_result"
    }
   ],
   "source": [
    "# Tokenization and BoW\n",
    "from nltk.tokenize import word_tokenize\n",
    "from sklearn.feature_extraction.text import CountVectorizer\n",
    "import nltk\n",
    "nltk.download('punkt')"
   ]
  },
  {
   "cell_type": "code",
   "execution_count": 18,
   "id": "27681555",
   "metadata": {},
   "outputs": [
    {
     "name": "stdout",
     "output_type": "stream",
     "text": [
      "Tokens: ['How', 'much', 'wood', 'would', 'a', 'woodchuck', 'chuck', 'could', 'chuck', 'wood', ',', 'if', 'a', 'woodchuck', 'could', 'chuck', 'wood']\n",
      "Vocabulary: ['chuck' 'could' 'how' 'if' 'much' 'wood' 'woodchuck' 'would']\n",
      "BoW Matrix: [[3 2 1 1 1 3 2 1]]\n"
     ]
    }
   ],
   "source": [
    "text = \"How much wood would a woodchuck chuck could chuck wood,if a woodchuck could chuck wood\"\n",
    "\n",
    "tokens = word_tokenize(text)\n",
    "print(\"Tokens:\", tokens)\n",
    "\n",
    "vectorizer = CountVectorizer()\n",
    "X = vectorizer.fit_transform([text])\n",
    "print(\"Vocabulary:\", vectorizer.get_feature_names_out())\n",
    "print(\"BoW Matrix:\", X.toarray())"
   ]
  }
 ],
 "metadata": {
  "kernelspec": {
   "display_name": "Python 3",
   "language": "python",
   "name": "python3"
  },
  "language_info": {
   "codemirror_mode": {
    "name": "ipython",
    "version": 3
   },
   "file_extension": ".py",
   "mimetype": "text/x-python",
   "name": "python",
   "nbconvert_exporter": "python",
   "pygments_lexer": "ipython3",
   "version": "3.10.0"
  }
 },
 "nbformat": 4,
 "nbformat_minor": 5
}
