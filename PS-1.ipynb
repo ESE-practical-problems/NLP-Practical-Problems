{
 "cells": [
  {
   "cell_type": "markdown",
   "id": "140a1b79",
   "metadata": {},
   "source": [
    "#### Basic Morphological Analysis"
   ]
  },
  {
   "cell_type": "code",
   "execution_count": 1,
   "id": "ffb698c8",
   "metadata": {},
   "outputs": [],
   "source": [
    "import nltk\n",
    "from nltk.tokenize import word_tokenize\n",
    "from nltk.stem import PorterStemmer\n",
    "from sklearn.feature_extraction.text import CountVectorizer\n",
    "import re"
   ]
  },
  {
   "cell_type": "code",
   "execution_count": 2,
   "id": "c76a1505",
   "metadata": {},
   "outputs": [
    {
     "name": "stderr",
     "output_type": "stream",
     "text": [
      "[nltk_data] Downloading package punkt to\n",
      "[nltk_data]     C:\\Users\\ASUS\\AppData\\Roaming\\nltk_data...\n",
      "[nltk_data]   Package punkt is already up-to-date!\n"
     ]
    },
    {
     "data": {
      "text/plain": [
       "True"
      ]
     },
     "execution_count": 2,
     "metadata": {},
     "output_type": "execute_result"
    }
   ],
   "source": [
    "nltk.download('punkt')"
   ]
  },
  {
   "cell_type": "code",
   "execution_count": 3,
   "id": "5e744c27",
   "metadata": {},
   "outputs": [],
   "source": [
    "text = \"The cats are running and jumping over the fence.\"\n",
    "text = text.lower()\n",
    "text = re.sub(r'\\W', ' ', text)\n",
    "text = re.sub(r'\\s+', ' ', text)"
   ]
  },
  {
   "cell_type": "code",
   "execution_count": 4,
   "id": "6758f06a",
   "metadata": {},
   "outputs": [
    {
     "name": "stdout",
     "output_type": "stream",
     "text": [
      "Tokenized words:  ['the', 'cats', 'are', 'running', 'and', 'jumping', 'over', 'the', 'fence']\n"
     ]
    }
   ],
   "source": [
    "words = word_tokenize(text)\n",
    "\n",
    "print(\"Tokenized words: \", words)"
   ]
  },
  {
   "cell_type": "code",
   "execution_count": 5,
   "id": "7687bf1c",
   "metadata": {},
   "outputs": [],
   "source": [
    "stemmer = PorterStemmer()"
   ]
  },
  {
   "cell_type": "code",
   "execution_count": 6,
   "id": "6f857114",
   "metadata": {},
   "outputs": [
    {
     "name": "stdout",
     "output_type": "stream",
     "text": [
      "Stemmed Words:  ['the', 'cat', 'are', 'run', 'and', 'jump', 'over', 'the', 'fenc']\n"
     ]
    }
   ],
   "source": [
    "stemmed_words = [stemmer.stem(word) for word in words]\n",
    "print(\"Stemmed Words: \", stemmed_words)"
   ]
  },
  {
   "cell_type": "code",
   "execution_count": 7,
   "id": "824f8694",
   "metadata": {},
   "outputs": [
    {
     "name": "stdout",
     "output_type": "stream",
     "text": [
      "Vocabulary: ['and' 'are' 'cats' 'fence' 'jumping' 'over' 'running' 'the']\n",
      "BoW Matrix: [[1 1 1 1 1 1 1 2]]\n"
     ]
    }
   ],
   "source": [
    "# BoW method\n",
    "vectorizer = CountVectorizer()\n",
    "X = vectorizer.fit_transform([text])\n",
    "print(\"Vocabulary:\", vectorizer.get_feature_names_out())\n",
    "print(\"BoW Matrix:\", X.toarray())"
   ]
  },
  {
   "cell_type": "code",
   "execution_count": 8,
   "id": "40754c6b",
   "metadata": {},
   "outputs": [
    {
     "name": "stdout",
     "output_type": "stream",
     "text": [
      "{'the': 2, 'cats': 1, 'are': 1, 'running': 1, 'and': 1, 'jumping': 1, 'over': 1, 'fence': 1}\n"
     ]
    }
   ],
   "source": [
    "# Bag of Words method (optional)\n",
    "word2count = {}\n",
    "for word in words: \n",
    "\tif word not in word2count.keys(): \n",
    "\t\tword2count[word] = 1\n",
    "\telse: \n",
    "\t\tword2count[word] += 1\n",
    "\n",
    "print(word2count)"
   ]
  },
  {
   "cell_type": "code",
   "execution_count": null,
   "id": "cc35e3ac",
   "metadata": {},
   "outputs": [],
   "source": []
  }
 ],
 "metadata": {
  "kernelspec": {
   "display_name": "Python 3",
   "language": "python",
   "name": "python3"
  },
  "language_info": {
   "codemirror_mode": {
    "name": "ipython",
    "version": 3
   },
   "file_extension": ".py",
   "mimetype": "text/x-python",
   "name": "python",
   "nbconvert_exporter": "python",
   "pygments_lexer": "ipython3",
   "version": "3.10.0"
  }
 },
 "nbformat": 4,
 "nbformat_minor": 5
}
