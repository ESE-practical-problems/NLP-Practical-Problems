{
 "cells": [
  {
   "cell_type": "markdown",
   "id": "69bfd5dc",
   "metadata": {},
   "source": [
    "#### Identifying Semantic Relationships Using WordNet"
   ]
  },
  {
   "cell_type": "code",
   "execution_count": null,
   "id": "38e575d0",
   "metadata": {},
   "outputs": [
    {
     "name": "stderr",
     "output_type": "stream",
     "text": [
      "[nltk_data] Downloading package wordnet to\n",
      "[nltk_data]     C:\\Users\\ASUS\\AppData\\Roaming\\nltk_data...\n",
      "[nltk_data]   Package wordnet is already up-to-date!\n",
      "[nltk_data] Downloading package omw-1.4 to\n",
      "[nltk_data]     C:\\Users\\ASUS\\AppData\\Roaming\\nltk_data...\n",
      "[nltk_data]   Package omw-1.4 is already up-to-date!\n"
     ]
    },
    {
     "data": {
      "text/plain": [
       "True"
      ]
     },
     "execution_count": 1,
     "metadata": {},
     "output_type": "execute_result"
    }
   ],
   "source": [
    "import nltk\n",
    "nltk.download('wordnet')\n",
    "nltk.download('omw-1.4')"
   ]
  },
  {
   "cell_type": "code",
   "execution_count": 2,
   "id": "7903d389",
   "metadata": {},
   "outputs": [],
   "source": [
    "from nltk.corpus import wordnet as wn\n",
    "\n",
    "word = 'application'"
   ]
  },
  {
   "cell_type": "code",
   "execution_count": 3,
   "id": "40562551",
   "metadata": {},
   "outputs": [
    {
     "name": "stdout",
     "output_type": "stream",
     "text": [
      "Word:  application\n",
      "Sense:  application.n.01\n",
      "Definition:  the act of bringing something to bear; using it for a particular purpose\n",
      "Synonyms:  application, practical_application\n",
      "Hypernyms:  use\n",
      "Hyponyms:  technology, misapplication\n",
      "Antonyms: None found\n",
      "\n",
      "----------------------------------------------------------------------------------------------------\n",
      "Word:  application\n",
      "Sense:  application.n.02\n",
      "Definition:  a verbal or written request for assistance or employment or admission to a school\n",
      "Synonyms:  application\n",
      "Hypernyms:  request\n",
      "Hyponyms:  patent_application, job_application, loan_application, credit_application\n",
      "Antonyms: None found\n",
      "\n",
      "----------------------------------------------------------------------------------------------------\n",
      "Word:  application\n",
      "Sense:  application.n.03\n",
      "Definition:  the work of applying something\n",
      "Synonyms:  application, coating, covering\n",
      "Hypernyms:  manual_labor\n",
      "Hyponyms:  scumble, paving, plating, fumigation, lubrication, papering, tinning, waxing, lining, painting, anointing, spraying, plastering, foliation, tiling, galvanization, tinning\n",
      "Antonyms: None found\n",
      "\n",
      "----------------------------------------------------------------------------------------------------\n",
      "Word:  application\n",
      "Sense:  application.n.04\n",
      "Definition:  a program that gives a computer instructions that provide the user with tools to accomplish a task\n",
      "Synonyms:  application, application_program, applications_programme\n",
      "Hypernyms:  program\n",
      "Hyponyms:  natural_language_processor, frame, applet, job, editor_program, browser, active_application, word_processor\n",
      "Antonyms: None found\n",
      "\n",
      "----------------------------------------------------------------------------------------------------\n",
      "Word:  application\n",
      "Sense:  lotion.n.02\n",
      "Definition:  liquid preparation having a soothing or antiseptic or medicinal action when applied to the skin\n",
      "Synonyms:  lotion, application\n",
      "Hypernyms:  remedy\n",
      "Hyponyms:  liniment, menthol, blackwash, calamine_lotion, witch_hazel, eye-lotion, rubbing_alcohol\n",
      "Antonyms: None found\n",
      "\n",
      "----------------------------------------------------------------------------------------------------\n",
      "Word:  application\n",
      "Sense:  application.n.06\n",
      "Definition:  a diligent effort\n",
      "Synonyms:  application, diligence\n",
      "Hypernyms:  effort\n",
      "Hyponyms:  \n",
      "Antonyms: None found\n",
      "\n",
      "----------------------------------------------------------------------------------------------------\n",
      "Word:  application\n",
      "Sense:  application.n.07\n",
      "Definition:  the action of putting something into operation\n",
      "Synonyms:  application\n",
      "Hypernyms:  action\n",
      "Hyponyms:  \n",
      "Antonyms: None found\n",
      "\n",
      "----------------------------------------------------------------------------------------------------\n"
     ]
    }
   ],
   "source": [
    "synsets = wn.synsets(word)\n",
    "\n",
    "if synsets:\n",
    "    for syn in synsets:\n",
    "        print(\"Word: \", word)\n",
    "        print(\"Sense: \", syn.name())\n",
    "        print(\"Definition: \", syn.definition())\n",
    "        print(\"Synonyms: \", ', '.join(syn.lemma_names()))\n",
    "        print(\"Hypernyms: \", ', '.join([h.name().split('.')[0] for h in syn.hypernyms()]))\n",
    "        print(\"Hyponyms: \", ', '.join([h.name().split('.')[0] for h in syn.hyponyms()]))\n",
    "        \n",
    "        antonyms = set()\n",
    "        for lemma in syn.lemmas():\n",
    "            for ant in lemma.antonyms():\n",
    "                antonyms.add(ant.name())\n",
    "        \n",
    "        if antonyms:\n",
    "            print(\"Antonyms: \", ', '.join(antonyms))\n",
    "        else:\n",
    "            print(\"Antonyms: None found\")\n",
    "        \n",
    "        print()\n",
    "        print(\"-\" * 100)\n",
    "else: \n",
    "    print(\"No synsets found for: \", word)"
   ]
  },
  {
   "cell_type": "code",
   "execution_count": 4,
   "id": "243b285e",
   "metadata": {},
   "outputs": [
    {
     "name": "stdout",
     "output_type": "stream",
     "text": [
      "Tokens: ['How', 'much', 'wood', 'would', 'a', 'woodchuck', 'chuck', 'could', 'chuck', 'wood', ',', 'if', 'a', 'woodchuck', 'could', 'chuck', 'wood']\n",
      "Vocabulary: ['chuck' 'could' 'how' 'if' 'much' 'wood' 'woodchuck' 'would']\n",
      "BoW Matrix: [[3 2 1 1 1 3 2 1]]\n"
     ]
    },
    {
     "name": "stderr",
     "output_type": "stream",
     "text": [
      "[nltk_data] Downloading package punkt to\n",
      "[nltk_data]     C:\\Users\\ASUS\\AppData\\Roaming\\nltk_data...\n",
      "[nltk_data]   Package punkt is already up-to-date!\n"
     ]
    }
   ],
   "source": [
    "# Tokenization and BoW\n",
    "from nltk.tokenize import word_tokenize\n",
    "from sklearn.feature_extraction.text import CountVectorizer\n",
    "import nltk\n",
    "nltk.download('punkt')\n",
    "\n",
    "text = \"How much wood would a woodchuck chuck could chuck wood,if a woodchuck could chuck wood\"\n",
    "\n",
    "tokens = word_tokenize(text)\n",
    "print(\"Tokens:\", tokens)\n",
    "\n",
    "vectorizer = CountVectorizer()\n",
    "X = vectorizer.fit_transform([text])\n",
    "print(\"Vocabulary:\", vectorizer.get_feature_names_out())\n",
    "print(\"BoW Matrix:\", X.toarray())"
   ]
  }
 ],
 "metadata": {
  "kernelspec": {
   "display_name": "Python 3",
   "language": "python",
   "name": "python3"
  },
  "language_info": {
   "codemirror_mode": {
    "name": "ipython",
    "version": 3
   },
   "file_extension": ".py",
   "mimetype": "text/x-python",
   "name": "python",
   "nbconvert_exporter": "python",
   "pygments_lexer": "ipython3",
   "version": "3.10.0"
  }
 },
 "nbformat": 4,
 "nbformat_minor": 5
}
