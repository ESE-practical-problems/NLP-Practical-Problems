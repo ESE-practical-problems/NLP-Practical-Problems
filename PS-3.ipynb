{
 "cells": [
  {
   "cell_type": "markdown",
   "id": "f02c443e",
   "metadata": {},
   "source": [
    "#### POS Tagging using NLTK with Predefined Sentences"
   ]
  },
  {
   "cell_type": "code",
   "execution_count": 1,
   "id": "7acba551",
   "metadata": {},
   "outputs": [
    {
     "name": "stderr",
     "output_type": "stream",
     "text": [
      "[nltk_data] Downloading package punkt to\n",
      "[nltk_data]     C:\\Users\\ASUS\\AppData\\Roaming\\nltk_data...\n",
      "[nltk_data]   Package punkt is already up-to-date!\n",
      "[nltk_data] Downloading package averaged_perceptron_tagger_eng to\n",
      "[nltk_data]     C:\\Users\\ASUS\\AppData\\Roaming\\nltk_data...\n",
      "[nltk_data]   Package averaged_perceptron_tagger_eng is already up-to-\n",
      "[nltk_data]       date!\n"
     ]
    },
    {
     "data": {
      "text/plain": [
       "True"
      ]
     },
     "execution_count": 1,
     "metadata": {},
     "output_type": "execute_result"
    }
   ],
   "source": [
    "import nltk\n",
    "nltk.download('punkt')\n",
    "nltk.download('averaged_perceptron_tagger_eng')"
   ]
  },
  {
   "cell_type": "code",
   "execution_count": 2,
   "id": "276de4ea",
   "metadata": {},
   "outputs": [],
   "source": [
    "with open(\"nlp_input.txt\", \"r\") as file:\n",
    "    text = file.read()"
   ]
  },
  {
   "cell_type": "code",
   "execution_count": 3,
   "id": "a3940ab0",
   "metadata": {},
   "outputs": [],
   "source": [
    "sentences = nltk.sent_tokenize(text)"
   ]
  },
  {
   "cell_type": "code",
   "execution_count": 4,
   "id": "248c6020",
   "metadata": {},
   "outputs": [
    {
     "name": "stdout",
     "output_type": "stream",
     "text": [
      "Part-Of-Speech Tagging: \n",
      "Sentence: Natural Language Processing (NLP) is an exciting field of AI.\n",
      "POS Tags: [('Natural', 'JJ'), ('Language', 'NNP'), ('Processing', 'NNP'), ('(', '('), ('NLP', 'NNP'), (')', ')'), ('is', 'VBZ'), ('an', 'DT'), ('exciting', 'JJ'), ('field', 'NN'), ('of', 'IN'), ('AI', 'NNP')]\n",
      "--------------------------------------------------\n",
      "Sentence: It focuses on the interaction between humans and computers using natural language.\n",
      "POS Tags: [('It', 'PRP'), ('focuses', 'VBZ'), ('on', 'IN'), ('the', 'DT'), ('interaction', 'NN'), ('between', 'IN'), ('humans', 'NNS'), ('and', 'CC'), ('computers', 'NNS'), ('using', 'VBG'), ('natural', 'JJ'), ('language', 'NN')]\n",
      "--------------------------------------------------\n",
      "Sentence: Tokenization, stemming, and lemmatization are some of its core techniques.\n",
      "POS Tags: [('Tokenization', 'NN'), (',', ','), ('stemming', 'VBG'), (',', ','), ('and', 'CC'), ('lemmatization', 'NN'), ('are', 'VBP'), ('some', 'DT'), ('of', 'IN'), ('its', 'PRP$'), ('core', 'NN'), ('techniques', 'NNS')]\n",
      "--------------------------------------------------\n",
      "Sentence: The quick brown fox jumps over the lazy dog.\n",
      "POS Tags: [('The', 'DT'), ('quick', 'JJ'), ('brown', 'NN'), ('fox', 'NN'), ('jumps', 'VBZ'), ('over', 'IN'), ('the', 'DT'), ('lazy', 'JJ'), ('dog', 'NN')]\n",
      "--------------------------------------------------\n",
      "Sentence: She sells seashells by the seashore.\n",
      "POS Tags: [('She', 'PRP'), ('sells', 'VBZ'), ('seashells', 'NNS'), ('by', 'IN'), ('the', 'DT'), ('seashore', 'NN')]\n",
      "--------------------------------------------------\n",
      "Sentence: I love programming in Python.\n",
      "POS Tags: [('I', 'PRP'), ('love', 'VBP'), ('programming', 'VBG'), ('in', 'IN'), ('Python', 'NNP')]\n",
      "--------------------------------------------------\n"
     ]
    }
   ],
   "source": [
    "print(\"Part-Of-Speech Tagging: \")\n",
    "for sentence in sentences:\n",
    "    tokens = nltk.word_tokenize(sentence.rstrip('.'))\n",
    "    pos_tags = nltk.pos_tag(tokens)\n",
    "    print(f\"Sentence: {sentence}\")\n",
    "    print(f\"POS Tags: {pos_tags}\")\n",
    "    print('-' * 50)"
   ]
  },
  {
   "cell_type": "code",
   "execution_count": 5,
   "id": "e6c99d7a",
   "metadata": {},
   "outputs": [
    {
     "name": "stdout",
     "output_type": "stream",
     "text": [
      "Tokens: ['Natural', 'Language', 'Processing', '(', 'NLP', ')', 'is', 'an', 'exciting', 'field', 'of', 'AI', '.', 'It', 'focuses', 'on', 'the', 'interaction', 'between', 'humans', 'and', 'computers', 'using', 'natural', 'language', '.', 'Tokenization', ',', 'stemming', ',', 'and', 'lemmatization', 'are', 'some', 'of', 'its', 'core', 'techniques', '.', 'The', 'quick', 'brown', 'fox', 'jumps', 'over', 'the', 'lazy', 'dog', '.', 'She', 'sells', 'seashells', 'by', 'the', 'seashore', '.', 'I', 'love', 'programming', 'in', 'Python', '.']\n",
      "Vocabulary: ['ai' 'an' 'and' 'are' 'between' 'brown' 'by' 'computers' 'core' 'dog'\n",
      " 'exciting' 'field' 'focuses' 'fox' 'humans' 'in' 'interaction' 'is' 'it'\n",
      " 'its' 'jumps' 'language' 'lazy' 'lemmatization' 'love' 'natural' 'nlp'\n",
      " 'of' 'on' 'over' 'processing' 'programming' 'python' 'quick' 'seashells'\n",
      " 'seashore' 'sells' 'she' 'some' 'stemming' 'techniques' 'the'\n",
      " 'tokenization' 'using']\n",
      "BoW Matrix: [[1 1 2 1 1 1 1 1 1 1 1 1 1 1 1 1 1 1 1 1 1 2 1 1 1 2 1 2 1 1 1 1 1 1 1 1\n",
      "  1 1 1 1 1 4 1 1]]\n"
     ]
    },
    {
     "name": "stderr",
     "output_type": "stream",
     "text": [
      "[nltk_data] Downloading package punkt to\n",
      "[nltk_data]     C:\\Users\\ASUS\\AppData\\Roaming\\nltk_data...\n",
      "[nltk_data]   Package punkt is already up-to-date!\n"
     ]
    }
   ],
   "source": [
    "# Tokenization and BoW\n",
    "from nltk.tokenize import word_tokenize\n",
    "from sklearn.feature_extraction.text import CountVectorizer\n",
    "import nltk\n",
    "nltk.download('punkt')\n",
    "\n",
    "tokens = word_tokenize(text)\n",
    "print(\"Tokens:\", tokens)\n",
    "\n",
    "vectorizer = CountVectorizer()\n",
    "X = vectorizer.fit_transform([text])\n",
    "print(\"Vocabulary:\", vectorizer.get_feature_names_out())\n",
    "print(\"BoW Matrix:\", X.toarray())"
   ]
  }
 ],
 "metadata": {
  "kernelspec": {
   "display_name": "Python 3",
   "language": "python",
   "name": "python3"
  },
  "language_info": {
   "codemirror_mode": {
    "name": "ipython",
    "version": 3
   },
   "file_extension": ".py",
   "mimetype": "text/x-python",
   "name": "python",
   "nbconvert_exporter": "python",
   "pygments_lexer": "ipython3",
   "version": "3.10.0"
  }
 },
 "nbformat": 4,
 "nbformat_minor": 5
}
